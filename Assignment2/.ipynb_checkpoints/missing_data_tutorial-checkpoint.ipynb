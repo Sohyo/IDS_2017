{
 "cells": [
  {
   "cell_type": "markdown",
   "metadata": {},
   "source": [
    "# Preproces missing data using Pandas"
   ]
  },
  {
   "cell_type": "code",
   "execution_count": 4,
   "metadata": {
    "collapsed": true
   },
   "outputs": [],
   "source": [
    "import pandas as pd\n",
    "import matplotlib.pyplot as plt\n"
   ]
  },
  {
   "cell_type": "code",
   "execution_count": 9,
   "metadata": {
    "collapsed": true
   },
   "outputs": [],
   "source": [
    "from fancyimpute import MICE, BayesianRidgeRegression"
   ]
  },
  {
   "cell_type": "code",
   "execution_count": 5,
   "metadata": {},
   "outputs": [
    {
     "name": "stdout",
     "output_type": "stream",
     "text": [
      "      pclass  survived                                               name  \\\n",
      "0        1.0       1.0                      Allen, Miss. Elisabeth Walton   \n",
      "1        1.0       1.0                     Allison, Master. Hudson Trevor   \n",
      "2        1.0       0.0                       Allison, Miss. Helen Loraine   \n",
      "3        1.0       0.0               Allison, Mr. Hudson Joshua Creighton   \n",
      "4        1.0       0.0    Allison, Mrs. Hudson J C (Bessie Waldo Daniels)   \n",
      "5        1.0       1.0                                Anderson, Mr. Harry   \n",
      "6        1.0       1.0                  Andrews, Miss. Kornelia Theodosia   \n",
      "7        1.0       0.0                             Andrews, Mr. Thomas Jr   \n",
      "8        1.0       1.0      Appleton, Mrs. Edward Dale (Charlotte Lamson)   \n",
      "9        1.0       0.0                            Artagaveytia, Mr. Ramon   \n",
      "10       1.0       0.0                             Astor, Col. John Jacob   \n",
      "11       1.0       1.0  Astor, Mrs. John Jacob (Madeleine Talmadge Force)   \n",
      "12       1.0       1.0                      Aubart, Mme. Leontine Pauline   \n",
      "13       1.0       1.0                       Barber, Miss. Ellen \"Nellie\"   \n",
      "14       1.0       1.0               Barkworth, Mr. Algernon Henry Wilson   \n",
      "15       1.0       0.0                                Baumann, Mr. John D   \n",
      "16       1.0       0.0                           Baxter, Mr. Quigg Edmond   \n",
      "17       1.0       1.0    Baxter, Mrs. James (Helene DeLaudeniere Chaput)   \n",
      "18       1.0       1.0                              Bazzani, Miss. Albina   \n",
      "19       1.0       0.0                               Beattie, Mr. Thomson   \n",
      "20       1.0       1.0                      Beckwith, Mr. Richard Leonard   \n",
      "21       1.0       1.0   Beckwith, Mrs. Richard Leonard (Sallie Monypeny)   \n",
      "22       1.0       1.0                              Behr, Mr. Karl Howell   \n",
      "23       1.0       1.0                              Bidois, Miss. Rosalie   \n",
      "24       1.0       1.0                                  Bird, Miss. Ellen   \n",
      "25       1.0       0.0                                Birnbaum, Mr. Jakob   \n",
      "26       1.0       1.0                            Bishop, Mr. Dickinson H   \n",
      "27       1.0       1.0            Bishop, Mrs. Dickinson H (Helen Walton)   \n",
      "28       1.0       1.0                             Bissette, Miss. Amelia   \n",
      "29       1.0       1.0          Bjornstrom-Steffansson, Mr. Mauritz Hakan   \n",
      "...      ...       ...                                                ...   \n",
      "1280     3.0       0.0                                    Vovk, Mr. Janko   \n",
      "1281     3.0       0.0                               Waelens, Mr. Achille   \n",
      "1282     3.0       0.0                                Ware, Mr. Frederick   \n",
      "1283     3.0       0.0                        Warren, Mr. Charles William   \n",
      "1284     3.0       0.0                                  Webber, Mr. James   \n",
      "1285     3.0       0.0                                Wenzel, Mr. Linhart   \n",
      "1286     3.0       1.0    Whabee, Mrs. George Joseph (Shawneene Abi-Saab)   \n",
      "1287     3.0       0.0                   Widegren, Mr. Carl/Charles Peter   \n",
      "1288     3.0       0.0                          Wiklund, Mr. Jakob Alfred   \n",
      "1289     3.0       0.0                            Wiklund, Mr. Karl Johan   \n",
      "1290     3.0       1.0                   Wilkes, Mrs. James (Ellen Needs)   \n",
      "1291     3.0       0.0                   Willer, Mr. Aaron (\"Abi Weller\")   \n",
      "1292     3.0       0.0                                 Willey, Mr. Edward   \n",
      "1293     3.0       0.0                  Williams, Mr. Howard Hugh \"Harry\"   \n",
      "1294     3.0       0.0                               Williams, Mr. Leslie   \n",
      "1295     3.0       0.0                                Windelov, Mr. Einar   \n",
      "1296     3.0       0.0                                   Wirz, Mr. Albert   \n",
      "1297     3.0       0.0                             Wiseman, Mr. Phillippe   \n",
      "1298     3.0       0.0                          Wittevrongel, Mr. Camille   \n",
      "1299     3.0       0.0                                Yasbeck, Mr. Antoni   \n",
      "1300     3.0       1.0            Yasbeck, Mrs. Antoni (Selini Alexander)   \n",
      "1301     3.0       0.0                               Youseff, Mr. Gerious   \n",
      "1302     3.0       0.0                                  Yousif, Mr. Wazli   \n",
      "1303     3.0       0.0                              Yousseff, Mr. Gerious   \n",
      "1304     3.0       0.0                               Zabour, Miss. Hileni   \n",
      "1305     3.0       0.0                              Zabour, Miss. Thamine   \n",
      "1306     3.0       0.0                          Zakarian, Mr. Mapriededer   \n",
      "1307     3.0       0.0                                Zakarian, Mr. Ortin   \n",
      "1308     3.0       0.0                                 Zimmerman, Mr. Leo   \n",
      "1309     NaN       NaN                                                NaN   \n",
      "\n",
      "         sex      age  sibsp  parch            ticket      fare    cabin  \\\n",
      "0     female  29.0000    0.0    0.0             24160  211.3375       B5   \n",
      "1       male   0.9167    1.0    2.0            113781  151.5500  C22 C26   \n",
      "2     female   2.0000    1.0    2.0            113781  151.5500  C22 C26   \n",
      "3       male  30.0000    1.0    2.0            113781  151.5500  C22 C26   \n",
      "4     female  25.0000    1.0    2.0            113781  151.5500  C22 C26   \n",
      "5       male  48.0000    0.0    0.0             19952   26.5500      E12   \n",
      "6     female  63.0000    1.0    0.0             13502   77.9583       D7   \n",
      "7       male  39.0000    0.0    0.0            112050    0.0000      A36   \n",
      "8     female  53.0000    2.0    0.0             11769   51.4792     C101   \n",
      "9       male  71.0000    0.0    0.0          PC 17609   49.5042      NaN   \n",
      "10      male  47.0000    1.0    0.0          PC 17757  227.5250  C62 C64   \n",
      "11    female  18.0000    1.0    0.0          PC 17757  227.5250  C62 C64   \n",
      "12    female  24.0000    0.0    0.0          PC 17477   69.3000      B35   \n",
      "13    female  26.0000    0.0    0.0             19877   78.8500      NaN   \n",
      "14      male  80.0000    0.0    0.0             27042   30.0000      A23   \n",
      "15      male      NaN    0.0    0.0          PC 17318   25.9250      NaN   \n",
      "16      male  24.0000    0.0    1.0          PC 17558  247.5208  B58 B60   \n",
      "17    female  50.0000    0.0    1.0          PC 17558  247.5208  B58 B60   \n",
      "18    female  32.0000    0.0    0.0             11813   76.2917      D15   \n",
      "19      male  36.0000    0.0    0.0             13050   75.2417       C6   \n",
      "20      male  37.0000    1.0    1.0             11751   52.5542      D35   \n",
      "21    female  47.0000    1.0    1.0             11751   52.5542      D35   \n",
      "22      male  26.0000    0.0    0.0            111369   30.0000     C148   \n",
      "23    female  42.0000    0.0    0.0          PC 17757  227.5250      NaN   \n",
      "24    female  29.0000    0.0    0.0          PC 17483  221.7792      C97   \n",
      "25      male  25.0000    0.0    0.0             13905   26.0000      NaN   \n",
      "26      male  25.0000    1.0    0.0             11967   91.0792      B49   \n",
      "27    female  19.0000    1.0    0.0             11967   91.0792      B49   \n",
      "28    female  35.0000    0.0    0.0          PC 17760  135.6333      C99   \n",
      "29      male  28.0000    0.0    0.0            110564   26.5500      C52   \n",
      "...      ...      ...    ...    ...               ...       ...      ...   \n",
      "1280    male  22.0000    0.0    0.0            349252    7.8958      NaN   \n",
      "1281    male  22.0000    0.0    0.0            345767    9.0000      NaN   \n",
      "1282    male      NaN    0.0    0.0            359309    8.0500      NaN   \n",
      "1283    male      NaN    0.0    0.0        C.A. 49867    7.5500      NaN   \n",
      "1284    male      NaN    0.0    0.0  SOTON/OQ 3101316    8.0500      NaN   \n",
      "1285    male  32.5000    0.0    0.0            345775    9.5000      NaN   \n",
      "1286  female  38.0000    0.0    0.0              2688    7.2292      NaN   \n",
      "1287    male  51.0000    0.0    0.0            347064    7.7500      NaN   \n",
      "1288    male  18.0000    1.0    0.0           3101267    6.4958      NaN   \n",
      "1289    male  21.0000    1.0    0.0           3101266    6.4958      NaN   \n",
      "1290  female  47.0000    1.0    0.0            363272    7.0000      NaN   \n",
      "1291    male      NaN    0.0    0.0              3410    8.7125      NaN   \n",
      "1292    male      NaN    0.0    0.0     S.O./P.P. 751    7.5500      NaN   \n",
      "1293    male      NaN    0.0    0.0          A/5 2466    8.0500      NaN   \n",
      "1294    male  28.5000    0.0    0.0             54636   16.1000      NaN   \n",
      "1295    male  21.0000    0.0    0.0  SOTON/OQ 3101317    7.2500      NaN   \n",
      "1296    male  27.0000    0.0    0.0            315154    8.6625      NaN   \n",
      "1297    male      NaN    0.0    0.0        A/4. 34244    7.2500      NaN   \n",
      "1298    male  36.0000    0.0    0.0            345771    9.5000      NaN   \n",
      "1299    male  27.0000    1.0    0.0              2659   14.4542      NaN   \n",
      "1300  female  15.0000    1.0    0.0              2659   14.4542      NaN   \n",
      "1301    male  45.5000    0.0    0.0              2628    7.2250      NaN   \n",
      "1302    male      NaN    0.0    0.0              2647    7.2250      NaN   \n",
      "1303    male      NaN    0.0    0.0              2627   14.4583      NaN   \n",
      "1304  female  14.5000    1.0    0.0              2665   14.4542      NaN   \n",
      "1305  female      NaN    1.0    0.0              2665   14.4542      NaN   \n",
      "1306    male  26.5000    0.0    0.0              2656    7.2250      NaN   \n",
      "1307    male  27.0000    0.0    0.0              2670    7.2250      NaN   \n",
      "1308    male  29.0000    0.0    0.0            315082    7.8750      NaN   \n",
      "1309     NaN      NaN    NaN    NaN               NaN       NaN      NaN   \n",
      "\n",
      "     embarked boat   body                           home.dest  \n",
      "0           S    2    NaN                        St Louis, MO  \n",
      "1           S   11    NaN     Montreal, PQ / Chesterville, ON  \n",
      "2           S  NaN    NaN     Montreal, PQ / Chesterville, ON  \n",
      "3           S  NaN  135.0     Montreal, PQ / Chesterville, ON  \n",
      "4           S  NaN    NaN     Montreal, PQ / Chesterville, ON  \n",
      "5           S    3    NaN                        New York, NY  \n",
      "6           S   10    NaN                          Hudson, NY  \n",
      "7           S  NaN    NaN                         Belfast, NI  \n",
      "8           S    D    NaN                 Bayside, Queens, NY  \n",
      "9           C  NaN   22.0                 Montevideo, Uruguay  \n",
      "10          C  NaN  124.0                        New York, NY  \n",
      "11          C    4    NaN                        New York, NY  \n",
      "12          C    9    NaN                       Paris, France  \n",
      "13          S    6    NaN                                 NaN  \n",
      "14          S    B    NaN                       Hessle, Yorks  \n",
      "15          S  NaN    NaN                        New York, NY  \n",
      "16          C  NaN    NaN                        Montreal, PQ  \n",
      "17          C    6    NaN                        Montreal, PQ  \n",
      "18          C    8    NaN                                 NaN  \n",
      "19          C    A    NaN                        Winnipeg, MN  \n",
      "20          S    5    NaN                        New York, NY  \n",
      "21          S    5    NaN                        New York, NY  \n",
      "22          C    5    NaN                        New York, NY  \n",
      "23          C    4    NaN                                 NaN  \n",
      "24          S    8    NaN                                 NaN  \n",
      "25          C  NaN  148.0                   San Francisco, CA  \n",
      "26          C    7    NaN                        Dowagiac, MI  \n",
      "27          C    7    NaN                        Dowagiac, MI  \n",
      "28          S    8    NaN                                 NaN  \n",
      "29          S    D    NaN  Stockholm, Sweden / Washington, DC  \n",
      "...       ...  ...    ...                                 ...  \n",
      "1280        S  NaN    NaN                                 NaN  \n",
      "1281        S  NaN    NaN      Antwerp, Belgium / Stanton, OH  \n",
      "1282        S  NaN    NaN                                 NaN  \n",
      "1283        S  NaN    NaN                                 NaN  \n",
      "1284        S  NaN    NaN                                 NaN  \n",
      "1285        S  NaN  298.0                                 NaN  \n",
      "1286        C    C    NaN                                 NaN  \n",
      "1287        S  NaN    NaN                                 NaN  \n",
      "1288        S  NaN  314.0                                 NaN  \n",
      "1289        S  NaN    NaN                                 NaN  \n",
      "1290        S  NaN    NaN                                 NaN  \n",
      "1291        S  NaN    NaN                                 NaN  \n",
      "1292        S  NaN    NaN                                 NaN  \n",
      "1293        S  NaN    NaN                                 NaN  \n",
      "1294        S  NaN   14.0                                 NaN  \n",
      "1295        S  NaN    NaN                                 NaN  \n",
      "1296        S  NaN  131.0                                 NaN  \n",
      "1297        S  NaN    NaN                                 NaN  \n",
      "1298        S  NaN    NaN                                 NaN  \n",
      "1299        C    C    NaN                                 NaN  \n",
      "1300        C  NaN    NaN                                 NaN  \n",
      "1301        C  NaN  312.0                                 NaN  \n",
      "1302        C  NaN    NaN                                 NaN  \n",
      "1303        C  NaN    NaN                                 NaN  \n",
      "1304        C  NaN  328.0                                 NaN  \n",
      "1305        C  NaN    NaN                                 NaN  \n",
      "1306        C  NaN  304.0                                 NaN  \n",
      "1307        C  NaN    NaN                                 NaN  \n",
      "1308        S  NaN    NaN                                 NaN  \n",
      "1309      NaN  NaN    NaN                                 NaN  \n",
      "\n",
      "[1310 rows x 14 columns]\n"
     ]
    }
   ],
   "source": [
    "df = pd.read_csv(\"titanic_original.csv\")\n",
    "print(df)"
   ]
  },
  {
   "cell_type": "markdown",
   "metadata": {},
   "source": [
    "# Visualize missing data"
   ]
  },
  {
   "cell_type": "code",
   "execution_count": 39,
   "metadata": {},
   "outputs": [
    {
     "name": "stdout",
     "output_type": "stream",
     "text": [
      "{'pclass': 1, 'survived': 1, 'name': 1, 'sex': 1, 'age': 264, 'sibsp': 1, 'parch': 1, 'ticket': 1, 'fare': 2, 'cabin': 1015, 'embarked': 3, 'boat': 824, 'body': 1189, 'home.dest': 565}\n"
     ]
    }
   ],
   "source": [
    "# Dictionary with amount of NaN per column\n",
    "\n",
    "columns = df.columns\n",
    "D = {}\n",
    "for i in columns:\n",
    "    D[str(i)] = df[i].isnull().sum()\n",
    "print(D)"
   ]
  },
  {
   "cell_type": "code",
   "execution_count": 40,
   "metadata": {},
   "outputs": [
    {
     "data": {
      "image/png": "[encoded data removed]",
      "text/plain": [
       "<matplotlib.figure.Figure at 0x108b6ccf8>"
      ]
     },
     "metadata": {},
     "output_type": "display_data"
    }
   ],
   "source": [
    "# Plot missing values per column\n",
    "\n",
    "plt.bar(range(len(D)), D.values(), align='center')\n",
    "plt.xticks(range(len(D)), D.keys(),rotation='vertical')\n",
    "plt.title('Missing values per column (out of 1310 rows)')\n",
    "plt.show()"
   ]
  },
  {
   "cell_type": "markdown",
   "metadata": {},
   "source": [
    "# Basic solutions"
   ]
  },
  {
   "cell_type": "code",
   "execution_count": null,
   "metadata": {
    "collapsed": true
   },
   "outputs": [],
   "source": [
    "# Complete-case analysis: Drop rows with a NaN value --if few NaNs (<5%)--\n",
    "df2 = df.dropna(axis=0, how='any')"
   ]
  },
  {
   "cell_type": "markdown",
   "metadata": {},
   "source": [
    "# Single value imputation/filling"
   ]
  },
  {
   "cell_type": "code",
   "execution_count": null,
   "metadata": {
    "collapsed": true
   },
   "outputs": [],
   "source": [
    "# Fill NaNs with 0 values\n",
    "df0 = df.fillna(0)\n",
    "df0"
   ]
  },
  {
   "cell_type": "code",
   "execution_count": 50,
   "metadata": {},
   "outputs": [
    {
     "ename": "KeyError",
     "evalue": "'age'",
     "output_type": "error",
     "traceback": [
      "\u001b[0;31m---------------------------------------------------------------------------\u001b[0m",
      "\u001b[0;31mTypeError\u001b[0m                                 Traceback (most recent call last)",
      "\u001b[0;32mpandas/_libs/index.pyx\u001b[0m in \u001b[0;36mpandas._libs.index.IndexEngine.get_loc (pandas/_libs/index.c:5085)\u001b[0;34m()\u001b[0m\n",
      "\u001b[0;32mpandas/_libs/hashtable_class_helper.pxi\u001b[0m in \u001b[0;36mpandas._libs.hashtable.Int64HashTable.get_item (pandas/_libs/hashtable.c:13892)\u001b[0;34m()\u001b[0m\n",
      "\u001b[0;31mTypeError\u001b[0m: an integer is required",
      "\nDuring handling of the above exception, another exception occurred:\n",
      "\u001b[0;31mKeyError\u001b[0m                                  Traceback (most recent call last)",
      "\u001b[0;32m<ipython-input-50-d34862524e43>\u001b[0m in \u001b[0;36m<module>\u001b[0;34m()\u001b[0m\n\u001b[1;32m      1\u001b[0m \u001b[0;34m\u001b[0m\u001b[0m\n\u001b[1;32m      2\u001b[0m \u001b[0;31m# Fill NaNs with mean of the column (only numerical data)\u001b[0m\u001b[0;34m\u001b[0m\u001b[0;34m\u001b[0m\u001b[0m\n\u001b[0;32m----> 3\u001b[0;31m \u001b[0mmean_age\u001b[0m \u001b[0;34m=\u001b[0m \u001b[0mdf\u001b[0m\u001b[0;34m[\u001b[0m\u001b[0;34m'age'\u001b[0m\u001b[0;34m]\u001b[0m\u001b[0;34m.\u001b[0m\u001b[0mmean\u001b[0m\u001b[0;34m(\u001b[0m\u001b[0;34m)\u001b[0m\u001b[0;34m\u001b[0m\u001b[0m\n\u001b[0m\u001b[1;32m      4\u001b[0m \u001b[0mmean_age\u001b[0m\u001b[0;34m\u001b[0m\u001b[0m\n\u001b[1;32m      5\u001b[0m \u001b[0;31m# df['age'].fillna(mean_age)\u001b[0m\u001b[0;34m\u001b[0m\u001b[0;34m\u001b[0m\u001b[0m\n",
      "\u001b[0;32m/Library/Frameworks/Python.framework/Versions/3.6/lib/python3.6/site-packages/pandas/core/series.py\u001b[0m in \u001b[0;36m__getitem__\u001b[0;34m(self, key)\u001b[0m\n\u001b[1;32m    599\u001b[0m         \u001b[0mkey\u001b[0m \u001b[0;34m=\u001b[0m \u001b[0mcom\u001b[0m\u001b[0;34m.\u001b[0m\u001b[0m_apply_if_callable\u001b[0m\u001b[0;34m(\u001b[0m\u001b[0mkey\u001b[0m\u001b[0;34m,\u001b[0m \u001b[0mself\u001b[0m\u001b[0;34m)\u001b[0m\u001b[0;34m\u001b[0m\u001b[0m\n\u001b[1;32m    600\u001b[0m         \u001b[0;32mtry\u001b[0m\u001b[0;34m:\u001b[0m\u001b[0;34m\u001b[0m\u001b[0m\n\u001b[0;32m--> 601\u001b[0;31m             \u001b[0mresult\u001b[0m \u001b[0;34m=\u001b[0m \u001b[0mself\u001b[0m\u001b[0;34m.\u001b[0m\u001b[0mindex\u001b[0m\u001b[0;34m.\u001b[0m\u001b[0mget_value\u001b[0m\u001b[0;34m(\u001b[0m\u001b[0mself\u001b[0m\u001b[0;34m,\u001b[0m \u001b[0mkey\u001b[0m\u001b[0;34m)\u001b[0m\u001b[0;34m\u001b[0m\u001b[0m\n\u001b[0m\u001b[1;32m    602\u001b[0m \u001b[0;34m\u001b[0m\u001b[0m\n\u001b[1;32m    603\u001b[0m             \u001b[0;32mif\u001b[0m \u001b[0;32mnot\u001b[0m \u001b[0mis_scalar\u001b[0m\u001b[0;34m(\u001b[0m\u001b[0mresult\u001b[0m\u001b[0;34m)\u001b[0m\u001b[0;34m:\u001b[0m\u001b[0;34m\u001b[0m\u001b[0m\n",
      "\u001b[0;32m/Library/Frameworks/Python.framework/Versions/3.6/lib/python3.6/site-packages/pandas/core/indexes/base.py\u001b[0m in \u001b[0;36mget_value\u001b[0;34m(self, series, key)\u001b[0m\n\u001b[1;32m   2426\u001b[0m         \u001b[0;32mtry\u001b[0m\u001b[0;34m:\u001b[0m\u001b[0;34m\u001b[0m\u001b[0m\n\u001b[1;32m   2427\u001b[0m             return self._engine.get_value(s, k,\n\u001b[0;32m-> 2428\u001b[0;31m                                           tz=getattr(series.dtype, 'tz', None))\n\u001b[0m\u001b[1;32m   2429\u001b[0m         \u001b[0;32mexcept\u001b[0m \u001b[0mKeyError\u001b[0m \u001b[0;32mas\u001b[0m \u001b[0me1\u001b[0m\u001b[0;34m:\u001b[0m\u001b[0;34m\u001b[0m\u001b[0m\n\u001b[1;32m   2430\u001b[0m             \u001b[0;32mif\u001b[0m \u001b[0mlen\u001b[0m\u001b[0;34m(\u001b[0m\u001b[0mself\u001b[0m\u001b[0;34m)\u001b[0m \u001b[0;34m>\u001b[0m \u001b[0;36m0\u001b[0m \u001b[0;32mand\u001b[0m \u001b[0mself\u001b[0m\u001b[0;34m.\u001b[0m\u001b[0minferred_type\u001b[0m \u001b[0;32min\u001b[0m \u001b[0;34m[\u001b[0m\u001b[0;34m'integer'\u001b[0m\u001b[0;34m,\u001b[0m \u001b[0;34m'boolean'\u001b[0m\u001b[0;34m]\u001b[0m\u001b[0;34m:\u001b[0m\u001b[0;34m\u001b[0m\u001b[0m\n",
      "\u001b[0;32mpandas/_libs/index.pyx\u001b[0m in \u001b[0;36mpandas._libs.index.IndexEngine.get_value (pandas/_libs/index.c:4363)\u001b[0;34m()\u001b[0m\n",
      "\u001b[0;32mpandas/_libs/index.pyx\u001b[0m in \u001b[0;36mpandas._libs.index.IndexEngine.get_value (pandas/_libs/index.c:4046)\u001b[0;34m()\u001b[0m\n",
      "\u001b[0;32mpandas/_libs/index.pyx\u001b[0m in \u001b[0;36mpandas._libs.index.IndexEngine.get_loc (pandas/_libs/index.c:5169)\u001b[0;34m()\u001b[0m\n",
      "\u001b[0;31mKeyError\u001b[0m: 'age'"
     ]
    }
   ],
   "source": [
    "# Fill NaNs with mean of the column (only numerical data)\n",
    "mean_age = df['age'].mean()\n",
    "mean_age\n",
    "df['age'].fillna(mean_age)\n",
    "\n",
    "# Dictionary with amount of NaN per column\n",
    "columns = df.columns\n",
    "D = {}\n",
    "for i in columns:\n",
    "    D[str(i)] = df[i].isnull().sum()\n",
    "print(D)\n",
    "\n",
    "# Plot missing values per column\n",
    "plt.bar(range(len(D)), D.values(), align='center')\n",
    "plt.xticks(range(len(D)), D.keys(),rotation='vertical')\n",
    "plt.title('Missing values per column (out of 1310 rows)')\n",
    "plt.show()\n"
   ]
  },
  {
   "cell_type": "code",
   "execution_count": null,
   "metadata": {
    "collapsed": true
   },
   "outputs": [],
   "source": [
    "# Backward filling\n",
    "new_df = df.fillna(method=\"bfill\")\n",
    "\n",
    "# Forward filling\n",
    "new_df = df.fillna(method=\"ffill\")"
   ]
  },
  {
   "cell_type": "markdown",
   "metadata": {},
   "source": [
    " # Multiple value imputation/filling\n",
    " \n",
    " '''\n",
    " Multiple imputation involves filling in the missing values multiple times, creating multiple “complete” datasets. Described in detail by Schafer and Graham (2002), the missing values are imputed based on the observed values for a given individual and the relations observed in the data for other participants, assuming the observed variables are included in the imputation model. Multiple imputation procedures, particularly MICE, are very flexible and can be used in a broad range of settings. Because multiple imputation involves creating multiple predictions for each missing value, the analyses of multiply imputed data take into account the uncertainty in the imputations and yield accurate standard errors. On a simple level, if there is not much information in the observed data (used in the imputation model) regarding the missing values, the imputations will be very variable, leading to high standard errors in the analyses. In contrast, if the observed data are highly predictive of the missing values the imputations will be more consistent across imputations, resulting in smaller, but still accurate, standard errors (Greenland and Finkle, 1995).\n",
    " '''"
   ]
  },
  {
   "cell_type": "code",
   "execution_count": 31,
   "metadata": {},
   "outputs": [
    {
     "data": {
      "text/plain": [
       "0       29.0000\n",
       "1        0.9167\n",
       "2        2.0000\n",
       "3       30.0000\n",
       "4       25.0000\n",
       "5       48.0000\n",
       "6       63.0000\n",
       "7       39.0000\n",
       "8       53.0000\n",
       "9       71.0000\n",
       "10      47.0000\n",
       "11      18.0000\n",
       "12      24.0000\n",
       "13      26.0000\n",
       "14      80.0000\n",
       "15          NaN\n",
       "16      24.0000\n",
       "17      50.0000\n",
       "18      32.0000\n",
       "19      36.0000\n",
       "20      37.0000\n",
       "21      47.0000\n",
       "22      26.0000\n",
       "23      42.0000\n",
       "24      29.0000\n",
       "25      25.0000\n",
       "26      25.0000\n",
       "27      19.0000\n",
       "28      35.0000\n",
       "29      28.0000\n",
       "         ...   \n",
       "1280    22.0000\n",
       "1281    22.0000\n",
       "1282        NaN\n",
       "1283        NaN\n",
       "1284        NaN\n",
       "1285    32.5000\n",
       "1286    38.0000\n",
       "1287    51.0000\n",
       "1288    18.0000\n",
       "1289    21.0000\n",
       "1290    47.0000\n",
       "1291        NaN\n",
       "1292        NaN\n",
       "1293        NaN\n",
       "1294    28.5000\n",
       "1295    21.0000\n",
       "1296    27.0000\n",
       "1297        NaN\n",
       "1298    36.0000\n",
       "1299    27.0000\n",
       "1300    15.0000\n",
       "1301    45.5000\n",
       "1302        NaN\n",
       "1303        NaN\n",
       "1304    14.5000\n",
       "1305        NaN\n",
       "1306    26.5000\n",
       "1307    27.0000\n",
       "1308    29.0000\n",
       "1309        NaN\n",
       "Name: age, Length: 1310, dtype: float64"
      ]
     },
     "execution_count": 31,
     "metadata": {},
     "output_type": "execute_result"
    }
   ],
   "source": [
    "df1 = df[['age']]\n",
    "df1"
   ]
  },
  {
   "cell_type": "code",
   "execution_count": 32,
   "metadata": {},
   "outputs": [
    {
     "name": "stdout",
     "output_type": "stream",
     "text": [
      "[MICE] Completing matrix with shape (1310,)\n"
     ]
    },
    {
     "ename": "ValueError",
     "evalue": "Expected 2d matrix, got (1310,) array",
     "output_type": "error",
     "traceback": [
      "\u001b[0;31m---------------------------------------------------------------------------\u001b[0m",
      "\u001b[0;31mValueError\u001b[0m                                Traceback (most recent call last)",
      "\u001b[0;32m<ipython-input-32-5de742ba4798>\u001b[0m in \u001b[0;36m<module>\u001b[0;34m()\u001b[0m\n\u001b[1;32m      1\u001b[0m \u001b[0;34m\u001b[0m\u001b[0m\n\u001b[0;32m----> 2\u001b[0;31m \u001b[0mdf_mice\u001b[0m \u001b[0;34m=\u001b[0m \u001b[0mMICE\u001b[0m\u001b[0;34m(\u001b[0m\u001b[0mn_imputations\u001b[0m\u001b[0;34m=\u001b[0m\u001b[0;36m100\u001b[0m\u001b[0;34m)\u001b[0m\u001b[0;34m.\u001b[0m\u001b[0mcomplete\u001b[0m\u001b[0;34m(\u001b[0m\u001b[0mdf1\u001b[0m\u001b[0;34m)\u001b[0m\u001b[0;34m\u001b[0m\u001b[0m\n\u001b[0m\u001b[1;32m      3\u001b[0m \u001b[0;31m# df_mice = MICE(n_nearest_columns=80, n_imputations=100,n_burn_in=5,model=BayesianRidgeRegression(lambda_reg=1.0),init_fill_method=\"mean\").complete(df1)\u001b[0m\u001b[0;34m\u001b[0m\u001b[0;34m\u001b[0m\u001b[0m\n",
      "\u001b[0;32m/Library/Frameworks/Python.framework/Versions/3.6/lib/python3.6/site-packages/fancyimpute/mice.py\u001b[0m in \u001b[0;36mcomplete\u001b[0;34m(self, X)\u001b[0m\n\u001b[1;32m    332\u001b[0m             \u001b[0mprint\u001b[0m\u001b[0;34m(\u001b[0m\u001b[0;34m\"[MICE] Completing matrix with shape %s\"\u001b[0m \u001b[0;34m%\u001b[0m \u001b[0;34m(\u001b[0m\u001b[0mX\u001b[0m\u001b[0;34m.\u001b[0m\u001b[0mshape\u001b[0m\u001b[0;34m,\u001b[0m\u001b[0;34m)\u001b[0m\u001b[0;34m)\u001b[0m\u001b[0;34m\u001b[0m\u001b[0m\n\u001b[1;32m    333\u001b[0m         \u001b[0mX_completed\u001b[0m \u001b[0;34m=\u001b[0m \u001b[0mX\u001b[0m\u001b[0;34m.\u001b[0m\u001b[0mcopy\u001b[0m\u001b[0;34m(\u001b[0m\u001b[0;34m)\u001b[0m\u001b[0;34m\u001b[0m\u001b[0m\n\u001b[0;32m--> 334\u001b[0;31m         \u001b[0mimputed_arrays\u001b[0m\u001b[0;34m,\u001b[0m \u001b[0mmissing_mask\u001b[0m \u001b[0;34m=\u001b[0m \u001b[0mself\u001b[0m\u001b[0;34m.\u001b[0m\u001b[0mmultiple_imputations\u001b[0m\u001b[0;34m(\u001b[0m\u001b[0mX\u001b[0m\u001b[0;34m)\u001b[0m\u001b[0;34m\u001b[0m\u001b[0m\n\u001b[0m\u001b[1;32m    335\u001b[0m         \u001b[0;31m# average the imputed values for each feature\u001b[0m\u001b[0;34m\u001b[0m\u001b[0;34m\u001b[0m\u001b[0m\n\u001b[1;32m    336\u001b[0m         \u001b[0maverage_imputated_values\u001b[0m \u001b[0;34m=\u001b[0m \u001b[0mimputed_arrays\u001b[0m\u001b[0;34m.\u001b[0m\u001b[0mmean\u001b[0m\u001b[0;34m(\u001b[0m\u001b[0maxis\u001b[0m\u001b[0;34m=\u001b[0m\u001b[0;36m0\u001b[0m\u001b[0;34m)\u001b[0m\u001b[0;34m\u001b[0m\u001b[0m\n",
      "\u001b[0;32m/Library/Frameworks/Python.framework/Versions/3.6/lib/python3.6/site-packages/fancyimpute/mice.py\u001b[0m in \u001b[0;36mmultiple_imputations\u001b[0;34m(self, X)\u001b[0m\n\u001b[1;32m    292\u001b[0m         \u001b[0mstart_t\u001b[0m \u001b[0;34m=\u001b[0m \u001b[0mtime\u001b[0m\u001b[0;34m(\u001b[0m\u001b[0;34m)\u001b[0m\u001b[0;34m\u001b[0m\u001b[0m\n\u001b[1;32m    293\u001b[0m         \u001b[0mX\u001b[0m \u001b[0;34m=\u001b[0m \u001b[0mnp\u001b[0m\u001b[0;34m.\u001b[0m\u001b[0masarray\u001b[0m\u001b[0;34m(\u001b[0m\u001b[0mX\u001b[0m\u001b[0;34m)\u001b[0m\u001b[0;34m\u001b[0m\u001b[0m\n\u001b[0;32m--> 294\u001b[0;31m         \u001b[0mself\u001b[0m\u001b[0;34m.\u001b[0m\u001b[0m_check_input\u001b[0m\u001b[0;34m(\u001b[0m\u001b[0mX\u001b[0m\u001b[0;34m)\u001b[0m\u001b[0;34m\u001b[0m\u001b[0m\n\u001b[0m\u001b[1;32m    295\u001b[0m         \u001b[0mmissing_mask\u001b[0m \u001b[0;34m=\u001b[0m \u001b[0mnp\u001b[0m\u001b[0;34m.\u001b[0m\u001b[0misnan\u001b[0m\u001b[0;34m(\u001b[0m\u001b[0mX\u001b[0m\u001b[0;34m)\u001b[0m\u001b[0;34m\u001b[0m\u001b[0m\n\u001b[1;32m    296\u001b[0m         \u001b[0mself\u001b[0m\u001b[0;34m.\u001b[0m\u001b[0m_check_missing_value_mask\u001b[0m\u001b[0;34m(\u001b[0m\u001b[0mmissing_mask\u001b[0m\u001b[0;34m)\u001b[0m\u001b[0;34m\u001b[0m\u001b[0m\n",
      "\u001b[0;32m/Library/Frameworks/Python.framework/Versions/3.6/lib/python3.6/site-packages/fancyimpute/solver.py\u001b[0m in \u001b[0;36m_check_input\u001b[0;34m(self, X)\u001b[0m\n\u001b[1;32m     49\u001b[0m     \u001b[0;32mdef\u001b[0m \u001b[0m_check_input\u001b[0m\u001b[0;34m(\u001b[0m\u001b[0mself\u001b[0m\u001b[0;34m,\u001b[0m \u001b[0mX\u001b[0m\u001b[0;34m)\u001b[0m\u001b[0;34m:\u001b[0m\u001b[0;34m\u001b[0m\u001b[0m\n\u001b[1;32m     50\u001b[0m         \u001b[0;32mif\u001b[0m \u001b[0mlen\u001b[0m\u001b[0;34m(\u001b[0m\u001b[0mX\u001b[0m\u001b[0;34m.\u001b[0m\u001b[0mshape\u001b[0m\u001b[0;34m)\u001b[0m \u001b[0;34m!=\u001b[0m \u001b[0;36m2\u001b[0m\u001b[0;34m:\u001b[0m\u001b[0;34m\u001b[0m\u001b[0m\n\u001b[0;32m---> 51\u001b[0;31m             \u001b[0;32mraise\u001b[0m \u001b[0mValueError\u001b[0m\u001b[0;34m(\u001b[0m\u001b[0;34m\"Expected 2d matrix, got %s array\"\u001b[0m \u001b[0;34m%\u001b[0m \u001b[0;34m(\u001b[0m\u001b[0mX\u001b[0m\u001b[0;34m.\u001b[0m\u001b[0mshape\u001b[0m\u001b[0;34m,\u001b[0m\u001b[0;34m)\u001b[0m\u001b[0;34m)\u001b[0m\u001b[0;34m\u001b[0m\u001b[0m\n\u001b[0m\u001b[1;32m     52\u001b[0m \u001b[0;34m\u001b[0m\u001b[0m\n\u001b[1;32m     53\u001b[0m     \u001b[0;32mdef\u001b[0m \u001b[0m_check_missing_value_mask\u001b[0m\u001b[0;34m(\u001b[0m\u001b[0mself\u001b[0m\u001b[0;34m,\u001b[0m \u001b[0mmissing\u001b[0m\u001b[0;34m)\u001b[0m\u001b[0;34m:\u001b[0m\u001b[0;34m\u001b[0m\u001b[0m\n",
      "\u001b[0;31mValueError\u001b[0m: Expected 2d matrix, got (1310,) array"
     ]
    }
   ],
   "source": [
    "\n",
    "df_mice = MICE(n_imputations=100).complete(df1)\n",
    "# df_mice = MICE(n_nearest_columns=80, n_imputations=100,n_burn_in=5,model=BayesianRidgeRegression(lambda_reg=1.0),init_fill_method=\"mean\").complete(df1)\n"
   ]
  },
  {
   "cell_type": "code",
   "execution_count": null,
   "metadata": {
    "collapsed": true
   },
   "outputs": [],
   "source": []
  },
  {
   "cell_type": "code",
   "execution_count": null,
   "metadata": {
    "collapsed": true
   },
   "outputs": [],
   "source": []
  }
 ],
 "metadata": {
  "kernelspec": {
   "display_name": "Python 3",
   "language": "python",
   "name": "python3"
  },
  "language_info": {
   "codemirror_mode": {
    "name": "ipython",
    "version": 3
   },
   "file_extension": ".py",
   "mimetype": "text/x-python",
   "name": "python",
   "nbconvert_exporter": "python",
   "pygments_lexer": "ipython3",
   "version": "3.6.2"
  }
 },
 "nbformat": 4,
 "nbformat_minor": 2
}
