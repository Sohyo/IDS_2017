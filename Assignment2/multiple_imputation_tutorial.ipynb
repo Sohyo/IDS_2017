{
 "cells": [
  {
   "cell_type": "markdown",
   "metadata": {},
   "source": [
    "# Multiple Imputation with R"
   ]
  },
  {
   "cell_type": "code",
   "execution_count": null,
   "metadata": {
    "collapsed": true
   },
   "outputs": [],
   "source": [
    "library(lattice)\n",
    "library(mice)\n",
    "\n",
    "\n",
    "initial_file_path = \"./titanic_original.csv\"\n",
    "table <- read.csv(file=initial_file_path, header=TRUE, sep=\",\", stringsAsFactors = FALSE)"
   ]
  },
  {
   "cell_type": "code",
   "execution_count": null,
   "metadata": {},
   "outputs": [],
   "source": [
    "table"
   ]
  },
  {
   "cell_type": "markdown",
   "metadata": {},
   "source": [
    "# Percentage of entries missing per column"
   ]
  },
  {
   "cell_type": "code",
   "execution_count": null,
   "metadata": {},
   "outputs": [],
   "source": [
    "pMiss <- function(x){sum(is.na(x))/length(x)*100}\n",
    "#2 indicates the columns \n",
    "apply(table,2,pMiss)"
   ]
  },
  {
   "cell_type": "markdown",
   "metadata": {},
   "source": [
    "# Using Multi Imputation "
   ]
  },
  {
   "cell_type": "code",
   "execution_count": null,
   "metadata": {
    "scrolled": true
   },
   "outputs": [],
   "source": [
    "tempData <- mice(table,m=5,meth='pmm',seed=500)"
   ]
  },
  {
   "cell_type": "markdown",
   "metadata": {},
   "source": [
    "# Thanks to MICE, we have a table with 5 new columns. Each of the 5 entries per row is a possible value of the missing value."
   ]
  },
  {
   "cell_type": "code",
   "execution_count": null,
   "metadata": {},
   "outputs": [],
   "source": [
    "tmp <- tempData$imp$age\n",
    "#Renaiming The Columns Name\n",
    "colnames(tmp) <- c(\"age1\",\"age2\",\"age3\",\"age4\",\"age5\") \n",
    "head(tmp,n=15)\n",
    "#I'll pick the median for each entry in order to reduce at minimum the error,\n",
    "#to avoid very large or very"
   ]
  },
  {
   "cell_type": "markdown",
   "metadata": {
    "scrolled": false
   },
   "source": [
    "# Choose the median!"
   ]
  },
  {
   "cell_type": "code",
   "execution_count": null,
   "metadata": {},
   "outputs": [],
   "source": [
    "tmp.list <- split(tmp, seq(nrow(tmp)))\n",
    "out <- c()\n",
    "for (i in 1:NROW(tmp.list)){\n",
    "    row <- rapply(tmp.list[[i]],c)\n",
    "    sort(row)\n",
    "    out[i] <- row[[3]] \n",
    "}\n",
    "out[1]\n",
    "out[1] <- out[3]\n",
    "out[1]"
   ]
  },
  {
   "cell_type": "code",
   "execution_count": null,
   "metadata": {
    "collapsed": true
   },
   "outputs": [],
   "source": [
    "index = 1\n",
    "for (i in 1:NROW(table)){\n",
    "    if(is.na(table[i,5])){\n",
    "        table[i,5] <- out[index]\n",
    "        index <- index + 1\n",
    "    }\n",
    "}"
   ]
  },
  {
   "cell_type": "code",
   "execution_count": null,
   "metadata": {},
   "outputs": [],
   "source": [
    "table"
   ]
  },
  {
   "cell_type": "markdown",
   "metadata": {},
   "source": [
    "# We can see that all entries of age are filled"
   ]
  },
  {
   "cell_type": "code",
   "execution_count": null,
   "metadata": {},
   "outputs": [],
   "source": [
    "apply(table,2,pMiss)"
   ]
  }
 ],
 "metadata": {
  "kernelspec": {
   "display_name": "R",
   "language": "R",
   "name": "ir"
  },
  "language_info": {
   "codemirror_mode": "r",
   "file_extension": ".r",
   "mimetype": "text/x-r-source",
   "name": "R",
   "pygments_lexer": "r",
   "version": "3.3.1"
  }
 },
 "nbformat": 4,
 "nbformat_minor": 2
}
